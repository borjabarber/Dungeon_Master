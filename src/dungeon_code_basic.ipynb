{
 "cells": [
  {
   "cell_type": "code",
   "execution_count": null,
   "id": "08655228",
   "metadata": {},
   "outputs": [],
   "source": [
    "import openai\n",
    "from dotenv import load_dotenv\n",
    "import os\n",
    "\n",
    "# Cargar variables del archivo .env\n",
    "load_dotenv()\n",
    "openai.api_key = os.getenv(\"OPENAI_API_KEY\")\n",
    "\n",
    "def responder_mensaje(mensaje_usuario):\n",
    "    if not mensaje_usuario.strip():\n",
    "        return \"Por favor, escribe un mensaje válido.\"\n",
    "\n",
    "    try:\n",
    "        response = openai.chat.completions.create(\n",
    "            model=\"gpt-3.5-turbo\",\n",
    "            messages=[\n",
    "                {\"role\": \"system\", \"content\": \"Eres un Dungeoun master experto en el lore de dragones y mazmorras.\"},\n",
    "                {\"role\": \"user\", \"content\": mensaje_usuario}\n",
    "            ],\n",
    "            temperature=0.7,\n",
    "            max_tokens=550\n",
    "        )\n",
    "        return response.choices[0].message.content.strip()\n",
    "    except Exception as e:\n",
    "        return f\"Ocurrió un error al contactar con el Dungeon Master: {e}\"\n",
    "\n",
    "def main():\n",
    "    mensaje = input(\"¿Qué quieres preguntarle al Dungeon master?: \")\n",
    "    respuesta = responder_mensaje(mensaje)\n",
    "    print(\"\\nDungeon Master:\", respuesta)\n",
    "\n",
    "if __name__ == \"__main__\":\n",
    "    main()\n"
   ]
  }
 ],
 "metadata": {
  "kernelspec": {
   "display_name": "data_basic",
   "language": "python",
   "name": "python3"
  },
  "language_info": {
   "name": "python",
   "version": "3.11.9"
  }
 },
 "nbformat": 4,
 "nbformat_minor": 5
}
